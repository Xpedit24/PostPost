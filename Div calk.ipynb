{
 "cells": [
  {
   "cell_type": "code",
   "execution_count": 5,
   "metadata": {},
   "outputs": [
    {
     "name": "stdout",
     "output_type": "stream",
     "text": [
      "0.1668115312456598\n"
     ]
    }
   ],
   "source": [
    "import numpy as np\n",
    "\n",
    "ra =6.3\n",
    "radius = 0.8\n",
    "mating = np.sqrt((radius * ra)/46)\n",
    "print(mating)"
   ]
  },
  {
   "cell_type": "code",
   "execution_count": 3,
   "metadata": {},
   "outputs": [
    {
     "name": "stdout",
     "output_type": "stream",
     "text": [
      "9.200000000000001\n"
     ]
    }
   ],
   "source": [
    "import numpy as np\n",
    "\n",
    "f =0.4\n",
    "radius = 0.8\n",
    "ra = (46*f**2)/radius\n",
    "print(ra)"
   ]
  },
  {
   "attachments": {},
   "cell_type": "markdown",
   "metadata": {},
   "source": [
    "62375-10\n",
    "62427-80\n",
    "62338-690\n",
    "62338-630\n",
    "62338-870\n",
    "62338-850\n",
    "62308-20\n",
    "62338-80\n",
    "62438-70\n",
    "\n"
   ]
  },
  {
   "cell_type": "code",
   "execution_count": 12,
   "metadata": {},
   "outputs": [
    {
     "name": "stdout",
     "output_type": "stream",
     "text": [
      "0.1668115312456598\n"
     ]
    }
   ],
   "source": [
    "import numpy as np\n",
    "\n",
    "ra =3.2\n",
    "radius = 0.4\n",
    "mating = np.sqrt((radius * ra)/46)\n",
    "print(mating)"
   ]
  },
  {
   "cell_type": "code",
   "execution_count": 5,
   "metadata": {},
   "outputs": [
    {
     "name": "stdout",
     "output_type": "stream",
     "text": [
      "HRC: 45 tilsvarer HB: 422.51\n"
     ]
    }
   ],
   "source": [
    "# HRC til HB\n",
    "\n",
    "def hrc_to_hb(hrc):\n",
    "    if 21 <= hrc <= 30:\n",
    "        hb = 5.970 * hrc + 104.7\n",
    "    elif 31 <= hrc <= 40:\n",
    "        hb = 8.570 * hrc + 27.6\n",
    "    elif 41 <= hrc <= 50:\n",
    "        hb = 11.158 * hrc - 79.6\n",
    "    elif 51 <= hrc <= 60:\n",
    "        hb = 17.515 * hrc - 401\n",
    "    else:\n",
    "        return \"HRC value out of range (21-60)\"\n",
    "    \n",
    "    return round(hb, 2)\n",
    "\n",
    "\n",
    "hrc_verdi = 45\n",
    "hb_verdi = hrc_to_hb(hrc_verdi)\n",
    "print(f\"HRC: {hrc_verdi} tilsvarer HB: {hb_verdi}\")\n"
   ]
  },
  {
   "attachments": {},
   "cell_type": "markdown",
   "metadata": {},
   "source": [
    "Ali = 18 stk til 8820,00\n",
    "øberge = 8 stk til 7 159,50\n",
    "svea = 18 stk til 4500\n"
   ]
  },
  {
   "attachments": {},
   "cell_type": "markdown",
   "metadata": {},
   "source": [
    "# For z verdi for fresing \n",
    "\n",
    "IF[#503EQ1]GOTO100\n",
    "#500 = 1\n",
    "N100\n",
    "#503 = 1.\n",
    "#504 = -9. (DYBDE)\n",
    "\n",
    "IF[#500EQ1]THEN #501 = #504\n",
    "IF[#500EQ2]THEN #501 = [#504 * 2]\n",
    "IF[#500EQ3]THEN #501 = [#504 * 3]\n",
    "\n",
    "#### OPPERASJON ####\n",
    "\n",
    "#500 = [#500 + 1]\n",
    "IF[#500 GT 3]THEN #500=1\n",
    "\n",
    "\n",
    "\n",
    "\n",
    "# Eksempel på senterspiss i tt\n",
    "\n",
    "(T0505  SENTERSPISS)\n",
    "T0505 ( SENTERSPISS )\n",
    "G54\n",
    "G00 Z50.\n",
    "X0.\n",
    "G302 B-800. (TORQUE CONTROL ON)\n",
    "M950\n",
    "G303 (TORQUE CONTROL ON)\n",
    "G00 Z5.\n",
    "M09\n",
    "M05 P11\n",
    "G28U0. \n",
    "G28W0. \n",
    "M01\n",
    "\n"
   ]
  },
  {
   "attachments": {},
   "cell_type": "markdown",
   "metadata": {},
   "source": [
    "%\n",
    "O1000 (POLYGON TURNING MACRO PROGRAM WITH WHILE LOOP)\n",
    "( MAKLAVARIABLER )\n",
    "#510 = 63.0   (DIAMETER PÅ FRESEN)\n",
    "#511 = 18.1   (NØKKELVIDDE)\n",
    "#512 = 2.0    (START I Z)\n",
    "#513 = -10.2  (SLUTT I Z)\n",
    "#514 = 28.   (DIAMETER PÅ MATERIAL)\n",
    "#520 = 5.      (ANTALL SEGMENTER)\n",
    "#521 = [[#514-#511]/#520]  (STEG LENGDE I Z, BEREGNET AUTOMATISK)\n",
    "\n",
    "\n",
    "T0909 (63 MM FRES)\n",
    "G54\n",
    "G00 X[#514 + #510] Z#512 \n",
    "M28 S1000 P21 \n",
    "G51.2 P1 Q2 \n",
    "\n",
    "#100 = [#514 + #510]\n",
    "#101 = 1\n",
    "\n",
    "WHILE [#101 LE #520] DO1 \n",
    "\n",
    "G01 Z#513 F0.1 M08 \n",
    "G01 U2.\n",
    "G00 Z#512\n",
    "G00 U-2.\n",
    "G00 U[#521 - 2.]\n",
    " \n",
    "#100 = #100 - #521  \n",
    "#101 = #101 + 1     \n",
    "\n",
    "END1\n",
    "\n",
    "G00 Z2. \n",
    "G50.2 \n",
    "M09 \n",
    "\n",
    "G00 G28 U0. V0. \n",
    "G28 W0. \n",
    "M05 P22 \n",
    "M01 \n",
    "%\n"
   ]
  },
  {
   "cell_type": "code",
   "execution_count": 20,
   "metadata": {},
   "outputs": [
    {
     "name": "stdout",
     "output_type": "stream",
     "text": [
      "(INTERNAL                 | EXTERNAL) \n",
      "(M10 X 1.5 - 6H6H         | M10 X 1.5 - 6g6g)\n",
      "(PITCH DIAMETER MAX: 9.03 | PITCH DIAMETER MAX: 9.65)\n",
      "(PITCH DIAMETER MIN: 8.73 | PITCH DIAMETER MIN: 9.35)\n",
      "{'Basic_diameter': 52, 'Pitch': 1.5, 'Internal_thread': {'Height_of_fundamental_triangle': 1.3, 'Thread_Height': 0.81, 'Thread_dedendum': 0.49, 'Pitch_diameter_max': 51.03, 'Pitch_diameter_min': 50.73}, 'External_thread': {'Height_of_fundamental_triangle': 1.3, 'Thread_Height': 0.97, 'Thread_dedendum': 0.32, 'Pitch_diameter_max': 51.65, 'Pitch_diameter_min': 51.35}}\n"
     ]
    }
   ],
   "source": [
    "def calculate_metric_thread(Basic_diameter, Pitch):\n",
    "\n",
    "    import numpy as np\n",
    "\n",
    "    # Calculate thread depth\n",
    "    Height_of_fundamental_triangle = np.sqrt(3)/2 * Pitch\n",
    "    \n",
    "    # Internal thread calculations\n",
    "    Thread_Height_Internal_Thread = 5/8 * Height_of_fundamental_triangle\n",
    "    Thread_dedendum_Internal_Thread = 3/8 * Height_of_fundamental_triangle\n",
    "    Pitch_diameter_of_internal_thread_max = Basic_diameter - 2 * Thread_dedendum_Internal_Thread\n",
    "    Pitch_diameter_of_internal_thread_min = Basic_diameter - 2 * (Thread_dedendum_Internal_Thread + 0.1 * Pitch)  # Just an example tolerance\n",
    "    \n",
    "    # External thread calculations\n",
    "    Thread_Height_External_Thread = 3/4 * Height_of_fundamental_triangle\n",
    "    Thread_dedendum_External_Thread = 1/4 * Height_of_fundamental_triangle\n",
    "    Pitch_diameter_of_external_thread_max = Basic_diameter - 2 * (Thread_dedendum_External_Thread - 0.1 * Pitch)  # Just an example tolerance\n",
    "    Pitch_diameter_of_external_thread_min = Basic_diameter - 2 * Thread_dedendum_External_Thread\n",
    "\n",
    "    # Return the results as a dictionary\n",
    "    return {\n",
    "        \"Basic_diameter\": Basic_diameter,\n",
    "        \"Pitch\": Pitch,\n",
    "        \"Internal_thread\": {\n",
    "            \"Height_of_fundamental_triangle\": round(Height_of_fundamental_triangle,2),\n",
    "            \"Thread_Height\": round(Thread_Height_Internal_Thread,2),\n",
    "            \"Thread_dedendum\": round(Thread_dedendum_Internal_Thread,2),\n",
    "            \"Pitch_diameter_max\": round(Pitch_diameter_of_internal_thread_max,2),\n",
    "            \"Pitch_diameter_min\": round(Pitch_diameter_of_internal_thread_min,2)\n",
    "        },\n",
    "        \"External_thread\": {\n",
    "            \"Height_of_fundamental_triangle\": round(Height_of_fundamental_triangle,2),\n",
    "            \"Thread_Height\": round(Thread_Height_External_Thread,2),\n",
    "            \"Thread_dedendum\": round(Thread_dedendum_External_Thread,2),\n",
    "            \"Pitch_diameter_max\": round(Pitch_diameter_of_external_thread_max,2),\n",
    "            \"Pitch_diameter_min\": round(Pitch_diameter_of_external_thread_min,2)\n",
    "        }\n",
    "    }\n",
    "\n",
    "# Eksempel på bruk av funksjonen\n",
    "result = calculate_metric_thread(10, 1.5)\n",
    "print(f\"(INTERNAL                 | EXTERNAL) \\n(M{result['Basic_diameter']} X {result['Pitch']} - 6H6H         | M{result['Basic_diameter']} X {result['Pitch']} - 6g6g)\")\n",
    "print(f\"(PITCH DIAMETER MAX: {result['Internal_thread']['Pitch_diameter_max']} | PITCH DIAMETER MAX: {result['External_thread']['Pitch_diameter_max']})\")\n",
    "print(f\"(PITCH DIAMETER MIN: {result['Internal_thread']['Pitch_diameter_min']} | PITCH DIAMETER MIN: {result['External_thread']['Pitch_diameter_min']})\")\n",
    "\n",
    "\n",
    "# Example usage:\n",
    "D = 52  # Major diameter in mm\n",
    "P = 1.5   # Pitch in mm\n",
    "inne = True\n",
    "\n",
    "thread_dimensions = calculate_metric_thread(D, P)\n",
    "print(thread_dimensions)\n"
   ]
  },
  {
   "attachments": {},
   "cell_type": "markdown",
   "metadata": {},
   "source": [
    "(OPS! ALLE C SKAL STÅ C#500 )\n",
    "#500 = 0 (C AKSE START VERDI | SKAL VAERE  = 0, 120, 240)\n",
    "N122\n",
    "IF[#500GT241]GOTO123 \n",
    "\n",
    "\n",
    "#500 = [#599 + 120]\n",
    "GOTO 122\n",
    "N123"
   ]
  }
 ],
 "metadata": {
  "kernelspec": {
   "display_name": "Python 3",
   "language": "python",
   "name": "python3"
  },
  "language_info": {
   "codemirror_mode": {
    "name": "ipython",
    "version": 3
   },
   "file_extension": ".py",
   "mimetype": "text/x-python",
   "name": "python",
   "nbconvert_exporter": "python",
   "pygments_lexer": "ipython3",
   "version": "3.11.3"
  },
  "orig_nbformat": 4
 },
 "nbformat": 4,
 "nbformat_minor": 2
}
